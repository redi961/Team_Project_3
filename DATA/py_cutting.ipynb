{
 "cells": [
  {
   "cell_type": "code",
   "execution_count": 4,
   "metadata": {},
   "outputs": [],
   "source": [
    "import pandas as pd\n",
    "import numpy as np\n",
    "import pymysql"
   ]
  },
  {
   "cell_type": "code",
   "execution_count": 96,
   "metadata": {},
   "outputs": [],
   "source": [
    "text = 'train.txt'"
   ]
  },
  {
   "cell_type": "code",
   "execution_count": 98,
   "metadata": {},
   "outputs": [],
   "source": [
    "###### 기본적인 전처리 리스트 ######\n",
    "# 텍스트 파일에서 필요없는 데이터의 공통분모를 조건으로 제거\n",
    "# lines, a와 같은 변수는 함수를 사용하는 지점에서 미리 선언하면 문제는 없었음\n",
    "\n",
    "# 앞부분부터 cjs로 시작하는 내용을 전부 제거\n",
    "def fir():\n",
    "    file = open(text, 'w', encoding='UTF8')\n",
    "    for i in lines:\n",
    "        if i[:3] == 'Web':\n",
    "            file.write(i.replace(a, ''))\n",
    "        else:\n",
    "            file.write(i)\n",
    "    file.close()\n",
    "\n",
    "# 앞부분부터 공백이 아니게 된 것들에 전체 공백을 줌 (사용된 텍스트파일의 특성반영)\n",
    "def seco():\n",
    "    file = open(text, 'w', encoding='UTF8')\n",
    "    for i in lines:\n",
    "        if i[:2] != ' ':\n",
    "            file.write(i.replace(i[:2], ' '))\n",
    "        else:\n",
    "            file.write(i)\n",
    "    file.close()\n",
    "\n",
    "# 전체 파일에 좌측 여백 제거 (지금 체크결과 2번과 3번함수는 3번만 사용해도 될듯함)\n",
    "def thi():\n",
    "    file = open(text, 'w', encoding='UTF8')\n",
    "    for i in lines:\n",
    "        file.write(i.lstrip())\n",
    "    file.close()\n",
    "\n",
    "# 필요한 줄의 특성을 체크하여 if문으로 걸러냄\n",
    "def fo():\n",
    "    file = open(text, 'w', encoding='UTF8')\n",
    "    for i in lines:\n",
    "        if i[:4] == '시간 2':\n",
    "            file.write(i)\n",
    "        elif i[:4] == 'mmsi':\n",
    "            file.write(i)\n",
    "        elif i[:4] == 'ais_':\n",
    "            file.write(i)\n",
    "        elif i[:4] == 'cog ':\n",
    "            file.write(i)\n",
    "        elif i[:4] == 'sog ':\n",
    "            file.write(i)\n",
    "        elif i[:4] == 'ship':\n",
    "            file.write(i)\n",
    "    file.close()\n",
    "\n",
    "# 선박 명 수정, 특정 선박의 이름에 문제가 발견되어서 생성\n",
    "def Na():\n",
    "    file = open(text, 'w', encoding='UTF8')\n",
    "    file.write('\\n')\n",
    "    for i in lines:\n",
    "        if i[:8] == 'shipName':\n",
    "            file.write('shipName'+' '+i[9:].replace(',', '.'))\n",
    "        else:\n",
    "            file.write(i)\n",
    "    file.close()\n",
    "\n",
    "##### CSV전환 #####\n",
    "def proc():\n",
    "    newF = 'test.csv'\n",
    "    count = 0       # 리스트화 하여 나누기위한 기준\n",
    "    txtF = open(newF, 'a', encoding='cp949')\n",
    "    txtF.write(\"MMSI,degree,velocity,name,type,longitude,latitude,time\")\n",
    "    for line in lines :\n",
    "        line.replace(\"\\n\", \"\")  # 개행을 전부 제거 : ','를 사용하여 정렬\n",
    "        index = line.find(' ')  # find()함수를 통해 ' '를 마킹\n",
    "        line = line.replace(\" \", \"\")    # 공백을 제거\n",
    "        line = line[index: ]    # 공백뒷자리(결과값)만 정렬\n",
    "      \n",
    "        if count % 8 != 0 :\n",
    "            line = line.replace(\"\\n\", \", \") # 개행부분은 전부 ','로 대체\n",
    "        count += 1                      # 데이터 개수(9개)를 초과여부 분별\n",
    "        txtF.write(line)            # 데이터 출력\n",
    "    txtF.close()"
   ]
  },
  {
   "cell_type": "code",
   "execution_count": 20,
   "metadata": {},
   "outputs": [],
   "source": [
    "# 파일리딩 및 1차커팅\n",
    "file = open(text, 'r', encoding='UTF8')\n",
    "lines = file.readlines()\n",
    "file.close()\n",
    "a = 'WebSocket.vue?c0fd:'\n",
    "fir()"
   ]
  },
  {
   "cell_type": "code",
   "execution_count": 21,
   "metadata": {},
   "outputs": [],
   "source": [
    "# 2차 커팅\n",
    "file = open(text, 'r', encoding='UTF8')\n",
    "lines = file.readlines()\n",
    "file.close()\n",
    "seco()"
   ]
  },
  {
   "cell_type": "code",
   "execution_count": 22,
   "metadata": {},
   "outputs": [],
   "source": [
    "# 3차 커팅\n",
    "file = open(text, 'r', encoding='UTF8')\n",
    "lines = file.readlines()\n",
    "file.close()\n",
    "thi()"
   ]
  },
  {
   "cell_type": "code",
   "execution_count": 23,
   "metadata": {},
   "outputs": [],
   "source": [
    "# 파일에 시간표기가 안되어있을 때 \n",
    "file = open(text, 'r', encoding='utf8')\n",
    "lines = file.readlines()\n",
    "file.close()\n",
    "\n",
    "file = open(text, 'w', encoding='utf8')\n",
    "for i in lines:\n",
    "    if i[:2] == '20':\n",
    "        file.write('시간'+' '+i)\n",
    "    else:\n",
    "        file.write(i)\n",
    "file.close()"
   ]
  },
  {
   "cell_type": "code",
   "execution_count": 24,
   "metadata": {},
   "outputs": [],
   "source": [
    "# 파일에서 필요한 데이터 추출 : 시간, mmsi, posX, posY, cog, sog, shipName, shipType\n",
    "file = open(text, 'r', encoding='UTF8')\n",
    "lines = file.readlines()\n",
    "file.close()\n",
    "fo()"
   ]
  },
  {
   "cell_type": "code",
   "execution_count": 25,
   "metadata": {},
   "outputs": [],
   "source": [
    "# 선박 명 부분 고칠 방법 찾기\n",
    "file = open(text, 'r', encoding='UTF8')\n",
    "lines = file.readlines()\n",
    "file.close()\n",
    "Na()"
   ]
  },
  {
   "cell_type": "code",
   "execution_count": 109,
   "metadata": {},
   "outputs": [],
   "source": [
    "file = open(text, 'r', encoding='UTF8')\n",
    "# txt파일 첫줄 비어있어야 작동함\n",
    "lines = file.readlines()\n",
    "file.close()\n",
    "proc()"
   ]
  },
  {
   "attachments": {},
   "cell_type": "markdown",
   "metadata": {},
   "source": [
    "## 훈련데이터 프레임"
   ]
  },
  {
   "cell_type": "code",
   "execution_count": 2,
   "metadata": {},
   "outputs": [],
   "source": [
    "test = 'test.csv'"
   ]
  },
  {
   "cell_type": "code",
   "execution_count": 5,
   "metadata": {},
   "outputs": [],
   "source": [
    "df = pd.read_csv(test, encoding='cp949')"
   ]
  },
  {
   "cell_type": "code",
   "execution_count": 4,
   "metadata": {},
   "outputs": [
    {
     "data": {
      "text/plain": [
       "array([' 80', ' 30', ' 72', ' 37', ' 52', ' 89', ' 54', ' 70', ' 0',\n",
       "       ' 50', ' ', ' 10', ' 71', ' 51', ' 31', ' 60', ' 33', ' 32', ' 90',\n",
       "       ' 99', ' 36', ' 55', ' 53', ' 73', ' 79', ' 40', ' 98', ' 35',\n",
       "       ' 34', ' 74', ' 91'], dtype=object)"
      ]
     },
     "execution_count": 4,
     "metadata": {},
     "output_type": "execute_result"
    }
   ],
   "source": [
    "df['type'].unique()"
   ]
  },
  {
   "cell_type": "code",
   "execution_count": null,
   "metadata": {},
   "outputs": [],
   "source": [
    "df['name'].unique()"
   ]
  },
  {
   "cell_type": "code",
   "execution_count": null,
   "metadata": {},
   "outputs": [],
   "source": [
    "for i in range(len(df['type'])):\n",
    "    df['type'][i] = df['type'][i].replace(' ', '')\n",
    "    df['degree'][i] = df['degree'][i].replace(' ', '')\n",
    "    df['name'][i] = df['name'][i].replace(' ', '')"
   ]
  },
  {
   "cell_type": "code",
   "execution_count": 12,
   "metadata": {},
   "outputs": [],
   "source": [
    "df01 = df[df['type'] == '80']\n",
    "df02 = df[df['type'] == '70']"
   ]
  },
  {
   "cell_type": "code",
   "execution_count": 40,
   "metadata": {},
   "outputs": [
    {
     "data": {
      "text/plain": [
       "2562"
      ]
     },
     "execution_count": 40,
     "metadata": {},
     "output_type": "execute_result"
    }
   ],
   "source": [
    "len(df01['latitude'].unique())"
   ]
  },
  {
   "attachments": {},
   "cell_type": "markdown",
   "metadata": {},
   "source": [
    "## 기상데이터프레임"
   ]
  },
  {
   "cell_type": "code",
   "execution_count": null,
   "metadata": {},
   "outputs": [],
   "source": [
    "check = pd.read_csv('해양.csv', encoding='cp949')\n",
    "check.head()"
   ]
  },
  {
   "cell_type": "code",
   "execution_count": 25,
   "metadata": {},
   "outputs": [],
   "source": [
    "check = check[['관측소명', '관측시간', '유의파고', '유의파주기', '파향', '유속(Kn & cm/s)', '유향(˚)', '풍속(m/s)', '풍향']]\n",
    "check.columns = ['관측소', '시간', '파고', '파주기', '파향', '유속(Kn)', '유향', '풍속(m/s)', '풍향']"
   ]
  },
  {
   "cell_type": "code",
   "execution_count": 26,
   "metadata": {},
   "outputs": [],
   "source": [
    "check.to_csv('check.csv')"
   ]
  },
  {
   "attachments": {},
   "cell_type": "markdown",
   "metadata": {},
   "source": [
    "## DB연결"
   ]
  },
  {
   "cell_type": "code",
   "execution_count": 52,
   "metadata": {},
   "outputs": [],
   "source": [
    "conn = pymysql.connect(host='localhost', user='root', password='taldalim', db='world', charset='utf8')\n",
    "# connect(host = '서버주소', user = 'username', password = 'password', db = 'dbname', charset = 'utf8')"
   ]
  },
  {
   "cell_type": "code",
   "execution_count": null,
   "metadata": {},
   "outputs": [],
   "source": [
    "# CREATE\n",
    "try:\n",
    "    curs = conn.cursor()\n",
    "    sql = '''CREATE TABLE 테이블명 (\n",
    "        id int(11) NOT NULL AUTO_INCREMENT PRIMARY KEY,\n",
    "        name varchar(255),\n",
    "        email varchar(255)\n",
    "        )\n",
    "        '''\n",
    "    curs.execute(sql)\n",
    "    conn.commit()\n",
    "\n",
    "finally:\n",
    "    conn.close()"
   ]
  },
  {
   "cell_type": "code",
   "execution_count": null,
   "metadata": {},
   "outputs": [],
   "source": [
    "# INSERT 1\n",
    "try:\n",
    "    curs = conn.cursor()\n",
    "    sql = \"INSERT INTO user VALUES (%s, %s, %s)\"\n",
    "    val = (1111, \"kim\", \"google\")\n",
    "    curs.execute(sql, val)\n",
    "    conn.commit()\n",
    "\n",
    "finally:\n",
    "    conn.close()"
   ]
  },
  {
   "cell_type": "code",
   "execution_count": null,
   "metadata": {},
   "outputs": [],
   "source": [
    "# INSERT 2 / df스타일\n",
    "for idx, row in df.iterrows():\n",
    "    curs = conn.cursor()\n",
    "    sql = \"INSERT INTO user VALUES (%s)\"\n",
    "    val = (row.승객, row.이름, row.성별)\n",
    "    curs.execute(sql, val)\n",
    "conn.commit()\n",
    "conn.close()"
   ]
  },
  {
   "cell_type": "code",
   "execution_count": null,
   "metadata": {},
   "outputs": [],
   "source": [
    "# SELECT\n",
    "try:\n",
    "    curs = conn.cursor()\n",
    "    sql = \"SELECT * FROM user\"\n",
    "    curs.execute(sql)\n",
    "    result = curs.fetchall()\n",
    "    conn.commit()\n",
    "\n",
    "    for i in result:\n",
    "        print(i)\n",
    "\n",
    "finally:\n",
    "    conn.close()"
   ]
  },
  {
   "cell_type": "code",
   "execution_count": null,
   "metadata": {},
   "outputs": [],
   "source": [
    "# SELECT(특정 데이터 확인)\n",
    "try:\n",
    "    curs = conn.cursor()\n",
    "    sql = \"SELECT * FROM user WHERE name=%s\"\n",
    "    val = (\"Kim\")\n",
    "    curs.execute(sql, val)\n",
    "    result = curs.fetchall()\n",
    "    conn.commit()\n",
    "\n",
    "    for i in result:\n",
    "        print(i)\n",
    "\n",
    "finally:\n",
    "    conn.close()"
   ]
  },
  {
   "cell_type": "code",
   "execution_count": null,
   "metadata": {},
   "outputs": [],
   "source": [
    "# UPDATE\n",
    "try:\n",
    "    curs = conn.cursor()\n",
    "    sql = \"UPDATE user SET name=%s WHERE name=%s\"\n",
    "    val = (\"Kim\", \"kim\")\n",
    "    curs.execute(sql, val)\n",
    "    conn.commit()\n",
    "\n",
    "finally:\n",
    "    conn.close()"
   ]
  },
  {
   "cell_type": "code",
   "execution_count": null,
   "metadata": {},
   "outputs": [],
   "source": [
    "# DELETE\n",
    "try:\n",
    "    curs = conn.cursor()\n",
    "    sql = \"DELETE FROM user WHERE name=%s\"\n",
    "    val = (\"Seo\")\n",
    "    curs.execute(sql, val)\n",
    "    conn.commit()\n",
    "\n",
    "finally:\n",
    "    conn.close()"
   ]
  }
 ],
 "metadata": {
  "kernelspec": {
   "display_name": "Python 3",
   "language": "python",
   "name": "python3"
  },
  "language_info": {
   "codemirror_mode": {
    "name": "ipython",
    "version": 3
   },
   "file_extension": ".py",
   "mimetype": "text/x-python",
   "name": "python",
   "nbconvert_exporter": "python",
   "pygments_lexer": "ipython3",
   "version": "3.10.9 (tags/v3.10.9:1dd9be6, Dec  6 2022, 20:01:21) [MSC v.1934 64 bit (AMD64)]"
  },
  "orig_nbformat": 4,
  "vscode": {
   "interpreter": {
    "hash": "fb4569285eef3a3450cb62085a5b1e0da4bce0af555edc33dcf29baf3acc1368"
   }
  }
 },
 "nbformat": 4,
 "nbformat_minor": 2
}
